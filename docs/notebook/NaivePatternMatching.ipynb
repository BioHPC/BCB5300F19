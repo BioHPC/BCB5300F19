{
 "cells": [
  {
   "cell_type": "code",
   "execution_count": 39,
   "metadata": {},
   "outputs": [],
   "source": [
    "def NaivePatternMatching(pattrn, text):\n",
    "    assert len(pattrn) <= len(text)  # assume text at least as long as pattern\n",
    "    occurrences = []\n",
    "    for i in range(len(text)-len(pattrn)+1):  # for each alignment of p to t\n",
    "        match = True  # assume we match until proven wrong\n",
    "        for j in range(len(pattrn)):  # for each position of p\n",
    "            if text[i+j] != pattrn[j]:\n",
    "                match = False  # at least 1 char mismatches\n",
    "                break\n",
    "        if match:\n",
    "            occurrences.append(i)\n",
    "    return occurrences"
   ]
  },
  {
   "cell_type": "code",
   "execution_count": 40,
   "metadata": {},
   "outputs": [
    {
     "data": {
      "text/plain": [
       "[1, 3, 9]"
      ]
     },
     "execution_count": 40,
     "metadata": {},
     "output_type": "execute_result"
    }
   ],
   "source": [
    "pattern = \"ATAT\"\n",
    "genome = \"GATATATGCATATACTT\"\n",
    "NaivePatternMatching(pattern, genome)"
   ]
  }
 ],
 "metadata": {
  "kernelspec": {
   "display_name": "Python 3",
   "language": "python",
   "name": "python3"
  },
  "language_info": {
   "codemirror_mode": {
    "name": "ipython",
    "version": 3
   },
   "file_extension": ".py",
   "mimetype": "text/x-python",
   "name": "python",
   "nbconvert_exporter": "python",
   "pygments_lexer": "ipython3",
   "version": "3.7.1"
  }
 },
 "nbformat": 4,
 "nbformat_minor": 2
}
