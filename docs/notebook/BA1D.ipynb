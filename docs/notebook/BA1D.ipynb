{
 "cells": [
  {
   "cell_type": "markdown",
   "metadata": {},
   "source": [
    "### BA1D Pattern Matching Problem\n",
    "Fing all occurences of a pattern in a string.\n",
    "\n",
    "Input: Strings Pattern and Genome.\n",
    "Output: All starting positions in Genome where Pattern appears as a substring"
   ]
  },
  {
   "cell_type": "code",
   "execution_count": 37,
   "metadata": {},
   "outputs": [
    {
     "name": "stdout",
     "output_type": "stream",
     "text": [
      "1 3 9\n"
     ]
    }
   ],
   "source": [
    "pattern = \"ATAT\"\n",
    "genome = \"GATATATGCATATACTT\"\n",
    "#file = open('input/rosalind_ba1d.txt')\n",
    "#fileData = file.read()\n",
    "#pattern, genome = fileData.split()\n",
    "\n",
    "occurrences = []\n",
    "for i in range(0, len(genome)-len(pattern)+1):\n",
    "    if genome[i:i+len(pattern)] == pattern:\n",
    "        occurrences.append(i)\n",
    "print(*occurrences, sep=' ')"
   ]
  },
  {
   "cell_type": "code",
   "execution_count": 38,
   "metadata": {},
   "outputs": [
    {
     "name": "stdout",
     "output_type": "stream",
     "text": [
      "ATAT\n"
     ]
    }
   ],
   "source": [
    "print(pattern)"
   ]
  }
 ],
 "metadata": {
  "kernelspec": {
   "display_name": "Python 3",
   "language": "python",
   "name": "python3"
  },
  "language_info": {
   "codemirror_mode": {
    "name": "ipython",
    "version": 3
   },
   "file_extension": ".py",
   "mimetype": "text/x-python",
   "name": "python",
   "nbconvert_exporter": "python",
   "pygments_lexer": "ipython3",
   "version": "3.7.1"
  }
 },
 "nbformat": 4,
 "nbformat_minor": 2
}
